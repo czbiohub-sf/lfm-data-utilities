{
 "cells": [
  {
   "cell_type": "code",
   "execution_count": null,
   "id": "191ae598-f1f1-4277-892a-d889d26165d3",
   "metadata": {},
   "outputs": [],
   "source": [
    "!pip install itables\n",
    "\n",
    "import itables.options as opt\n",
    "\n",
    "from itables import init_notebook_mode, show\n",
    "\n",
    "init_notebook_mode(all_interactive=True)"
   ]
  },
  {
   "cell_type": "code",
   "execution_count": null,
   "id": "fca49a86-1354-4fa4-806e-46b10238968e",
   "metadata": {},
   "outputs": [],
   "source": [
    "from functools import partial\n",
    "\n",
    "from rank_yogo_loss import get_loss_df, show_image"
   ]
  },
  {
   "cell_type": "code",
   "execution_count": null,
   "id": "83b107e1-07c4-4507-8941-6cb5012d2b31",
   "metadata": {},
   "outputs": [],
   "source": [
    "PATH_TO_MODEL = (\n",
    "    \"/hpc/projects/flexo/MicroscopyData/Bioengineering\"\n",
    "    \"/LFM_scope/yogo_models/honest-sweep-51/best.pth\"\n",
    ")\n",
    "\n",
    "# I think I may need to put this dataset defn. file somewhere else\n",
    "PATH_TO_ALL_LABELLED_DATA_DDF = (\n",
    "    \"/home/axel.jacobsen/celldiagnosis/dataset_defs/all-labelled-data-train-only.yml\"\n",
    ")"
   ]
  },
  {
   "cell_type": "code",
   "execution_count": null,
   "id": "034a1b62-3344-4b48-b3e8-33816b65e606",
   "metadata": {},
   "outputs": [],
   "source": [
    "df = get_loss_df(PATH_TO_ALL_LABELLED_DATA_DDF, PATH_TO_MODEL)\n"
   ]
  },
  {
   "cell_type": "code",
   "execution_count": null,
   "id": "b14be84e-091c-45c7-853a-f113df4cde57",
   "metadata": {},
   "outputs": [],
   "source": [
    "show_image = partial(show_image, df=df, path_to_pth=PATH_TO_MODEL)\n",
    "\n",
    "opt.maxRows = len(df)\n",
    "opt.maxBytes = 250000000"
   ]
  },
  {
   "cell_type": "code",
   "execution_count": null,
   "id": "c1583997-5f8b-4338-b30a-7b687fde59ca",
   "metadata": {},
   "outputs": [],
   "source": [
    "show(df)"
   ]
  },
  {
   "cell_type": "code",
   "execution_count": null,
   "id": "f0f533dc-d156-4316-a147-a03ae96255cd",
   "metadata": {},
   "outputs": [],
   "source": [
    "show_image(df['total_loss'].idxmax())"
   ]
  }
 ],
 "metadata": {
  "kernelspec": {
   "display_name": "Python [conda env:.conda-eeeeeee]",
   "language": "python",
   "name": "conda-env-.conda-eeeeeee-py"
  },
  "language_info": {
   "codemirror_mode": {
    "name": "ipython",
    "version": 3
   },
   "file_extension": ".py",
   "mimetype": "text/x-python",
   "name": "python",
   "nbconvert_exporter": "python",
   "pygments_lexer": "ipython3",
   "version": "3.8.16"
  }
 },
 "nbformat": 4,
 "nbformat_minor": 5
}
